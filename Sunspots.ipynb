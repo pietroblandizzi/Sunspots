{
  "nbformat": 4,
  "nbformat_minor": 0,
  "metadata": {
    "colab": {
      "name": "Sunspots",
      "provenance": [],
      "collapsed_sections": []
    },
    "kernelspec": {
      "name": "python3",
      "display_name": "Python 3"
    },
    "accelerator": "GPU"
  },
  "cells": [
    {
      "cell_type": "code",
      "metadata": {
        "id": "vXXNra7-9iqI",
        "colab_type": "code",
        "outputId": "aeba58ae-9360-4a19-cc1c-748215c44e44",
        "colab": {
          "base_uri": "https://localhost:8080/",
          "height": 54
        }
      },
      "source": [
        "from google.colab import drive\n",
        "drive.mount('/content/drive')"
      ],
      "execution_count": 0,
      "outputs": [
        {
          "output_type": "stream",
          "text": [
            "Drive already mounted at /content/drive; to attempt to forcibly remount, call drive.mount(\"/content/drive\", force_remount=True).\n"
          ],
          "name": "stdout"
        }
      ]
    },
    {
      "cell_type": "code",
      "metadata": {
        "id": "Y75aV0sO-dL-",
        "colab_type": "code",
        "colab": {}
      },
      "source": [
        "import sys\n",
        "\n",
        "sys.path.append('/content/drive/My Drive/DeepLearning/Sunspots')"
      ],
      "execution_count": 0,
      "outputs": []
    },
    {
      "cell_type": "code",
      "metadata": {
        "id": "MwTtot0Y-inL",
        "colab_type": "code",
        "colab": {}
      },
      "source": [
        "import numpy as np\n",
        "import torch\n",
        "from torch import nn\n",
        "import torch.nn.functional as F\n",
        "from torch.autograd import Variable\n",
        "from sklearn.preprocessing import MinMaxScaler"
      ],
      "execution_count": 0,
      "outputs": []
    },
    {
      "cell_type": "code",
      "metadata": {
        "id": "_4xLEc6OvSW5",
        "colab_type": "code",
        "colab": {
          "base_uri": "https://localhost:8080/",
          "height": 202
        },
        "outputId": "15983374-67ec-4b08-bf9b-a7f729ace89f"
      },
      "source": [
        "!wget https://raw.githubusercontent.com/jbrownlee/Datasets/master/monthly-sunspots.csv\n"
      ],
      "execution_count": 2,
      "outputs": [
        {
          "output_type": "stream",
          "text": [
            "--2020-04-19 14:01:21--  https://raw.githubusercontent.com/jbrownlee/Datasets/master/monthly-sunspots.csv\n",
            "Resolving raw.githubusercontent.com (raw.githubusercontent.com)... 151.101.0.133, 151.101.64.133, 151.101.128.133, ...\n",
            "Connecting to raw.githubusercontent.com (raw.githubusercontent.com)|151.101.0.133|:443... connected.\n",
            "HTTP request sent, awaiting response... 200 OK\n",
            "Length: 45039 (44K) [text/plain]\n",
            "Saving to: ‘monthly-sunspots.csv’\n",
            "\n",
            "\rmonthly-sunspots.cs   0%[                    ]       0  --.-KB/s               \rmonthly-sunspots.cs 100%[===================>]  43.98K  --.-KB/s    in 0.01s   \n",
            "\n",
            "2020-04-19 14:01:21 (2.89 MB/s) - ‘monthly-sunspots.csv’ saved [45039/45039]\n",
            "\n"
          ],
          "name": "stdout"
        }
      ]
    },
    {
      "cell_type": "code",
      "metadata": {
        "id": "rFgNjUJ1_E1b",
        "colab_type": "code",
        "colab": {}
      },
      "source": [
        "import pandas as pd\n",
        "import os\n",
        "\n",
        "df = pd.read_csv('monthly-sunspots.csv', index_col='Month')"
      ],
      "execution_count": 0,
      "outputs": []
    },
    {
      "cell_type": "code",
      "metadata": {
        "id": "k6_UWArc_GhD",
        "colab_type": "code",
        "outputId": "0a65208e-cd41-4a35-ee63-127c72132fbb",
        "colab": {
          "base_uri": "https://localhost:8080/",
          "height": 235
        }
      },
      "source": [
        "df.head()\n",
        "df[\"Sunspots\"].astype('float32')"
      ],
      "execution_count": 4,
      "outputs": [
        {
          "output_type": "execute_result",
          "data": {
            "text/plain": [
              "Month\n",
              "1749-01    58.000000\n",
              "1749-02    62.599998\n",
              "1749-03    70.000000\n",
              "1749-04    55.700001\n",
              "1749-05    85.000000\n",
              "             ...    \n",
              "1983-08    71.800003\n",
              "1983-09    50.299999\n",
              "1983-10    55.799999\n",
              "1983-11    33.299999\n",
              "1983-12    33.400002\n",
              "Name: Sunspots, Length: 2820, dtype: float32"
            ]
          },
          "metadata": {
            "tags": []
          },
          "execution_count": 4
        }
      ]
    },
    {
      "cell_type": "code",
      "metadata": {
        "id": "JaB2jYfF_khf",
        "colab_type": "code",
        "outputId": "48030152-540f-43c5-c985-33bdf61f1c88",
        "colab": {
          "base_uri": "https://localhost:8080/",
          "height": 296
        }
      },
      "source": [
        "import matplotlib.pyplot as plt\n",
        "%matplotlib inline\n",
        "\n",
        "df.plot()"
      ],
      "execution_count": 5,
      "outputs": [
        {
          "output_type": "execute_result",
          "data": {
            "text/plain": [
              "<matplotlib.axes._subplots.AxesSubplot at 0x7f850c688da0>"
            ]
          },
          "metadata": {
            "tags": []
          },
          "execution_count": 5
        },
        {
          "output_type": "display_data",
          "data": {
            "image/png": "[encoded data removed]",
            "text/plain": [
              "<Figure size 432x288 with 1 Axes>"
            ]
          },
          "metadata": {
            "tags": [],
            "needs_background": "light"
          }
        }
      ]
    },
    {
      "cell_type": "code",
      "metadata": {
        "id": "2ur_YaCz_oap",
        "colab_type": "code",
        "outputId": "70140c92-f1f4-4e1d-c927-d7bebea49b67",
        "colab": {
          "base_uri": "https://localhost:8080/",
          "height": 101
        }
      },
      "source": [
        "def sliding_windows(data, seq_length):\n",
        "    x = []\n",
        "    y = []\n",
        "\n",
        "    for i in range(len(data)-seq_length-1):\n",
        "        _x = data[i:(i+seq_length)]\n",
        "        _y = data[i+seq_length]\n",
        "        x.append(_x)\n",
        "        y.append(_y)\n",
        "\n",
        "    return np.array(x),np.array(y)\n",
        "\n",
        "\n",
        "training_set = df.values.astype('float32')\n",
        "\n",
        "sc = MinMaxScaler()\n",
        "training_data = sc.fit_transform(training_set)\n",
        "\n",
        "seq_length = 10\n",
        "x, y = sliding_windows(training_data, seq_length)\n",
        "train_size = int(len(training_set) * 0.8)\n",
        "test_size = len(y) - train_size\n",
        "\n",
        "dataX = Variable(torch.Tensor(np.array(x)))\n",
        "dataY = Variable(torch.Tensor(np.array(y)))\n",
        "\n",
        "trainX = Variable(torch.Tensor(np.array(x[0:train_size])))\n",
        "trainY = Variable(torch.Tensor(np.array(y[0:train_size])))\n",
        "\n",
        "print(trainX.shape)\n",
        "print(trainY.shape)\n",
        "\n",
        "testX = Variable(torch.Tensor(np.array(x[train_size:len(x)])))\n",
        "testY = Variable(torch.Tensor(np.array(y[train_size:len(y)])))\n",
        "print(\"test\")\n",
        "print(testX.shape)\n",
        "print(testY.shape)"
      ],
      "execution_count": 0,
      "outputs": [
        {
          "output_type": "stream",
          "text": [
            "torch.Size([2256, 10, 1])\n",
            "torch.Size([2256, 1])\n",
            "test\n",
            "torch.Size([553, 10, 1])\n",
            "torch.Size([553, 1])\n"
          ],
          "name": "stdout"
        }
      ]
    },
    {
      "cell_type": "code",
      "metadata": {
        "id": "3PbY3Ib0_p5Z",
        "colab_type": "code",
        "outputId": "54a9ff9d-939c-4ca2-cc64-425d42a7ab07",
        "colab": {
          "base_uri": "https://localhost:8080/",
          "height": 34
        }
      },
      "source": [
        "# check if GPU is available\n",
        "train_on_gpu = torch.cuda.is_available()\n",
        "if(train_on_gpu):\n",
        "    print('Training on GPU!')\n",
        "else: \n",
        "    print('No GPU available, training on CPU; consider making n_epochs very small.')"
      ],
      "execution_count": 0,
      "outputs": [
        {
          "output_type": "stream",
          "text": [
            "Training on GPU!\n"
          ],
          "name": "stdout"
        }
      ]
    },
    {
      "cell_type": "code",
      "metadata": {
        "id": "oLTx91xa_smc",
        "colab_type": "code",
        "colab": {}
      },
      "source": [
        "class RNN(nn.Module):\n",
        "    \n",
        "    def __init__(self, dim, n_hidden=64, n_layers=1,\n",
        "                               drop_prob=0.3, lr=0.001):\n",
        "        super().__init__()\n",
        "        self.dim = dim\n",
        "        self.drop_prob = drop_prob\n",
        "        self.n_layers = n_layers\n",
        "        self.n_hidden = n_hidden\n",
        "        self.lr = lr\n",
        "        \n",
        "        \n",
        "        # define the LSTM\n",
        "        self.lstm = nn.LSTM(dim, n_hidden, n_layers, \n",
        "                            dropout=drop_prob, batch_first=True)\n",
        "        self.fc = nn.Linear(n_hidden, 1)\n",
        "      \n",
        "    \n",
        "    def forward(self, x, hidden):\n",
        "        ''' Forward pass through the network. \n",
        "            These inputs are x, and the hidden/cell state `hidden`. '''\n",
        "        #print(\"input: \", x.shape)\n",
        "        r_output, hidden = self.lstm(x, hidden)\n",
        "        #print(\"before flat: \", r_output.shape)\n",
        "        last_output = r_output[:,-1]\n",
        "        #print(\"last output: \", last_output.shape)\n",
        "        flat_output = last_output.contiguous().view(-1, self.n_hidden)\n",
        "        #print(\"after flat: \", flat_output.shape)\n",
        "        out = self.fc(flat_output)\n",
        "        #print(\"output: \", out.shape)\n",
        "        return out, hidden\n",
        "    \n",
        "    \n",
        "    def init_hidden(self, batch_size):\n",
        "        ''' Initializes hidden state '''\n",
        "        # Create two new tensors with sizes n_layers x batch_size x n_hidden,\n",
        "        # initialized to zero, for hidden state and cell state of LSTM\n",
        "        weight = next(self.parameters()).data\n",
        "        \n",
        "        if (train_on_gpu):\n",
        "            hidden = (weight.new(self.n_layers, batch_size, self.n_hidden).zero_().cuda(),\n",
        "                  weight.new(self.n_layers, batch_size, self.n_hidden).zero_().cuda())\n",
        "        else:\n",
        "            hidden = (weight.new(self.n_layers, batch_size, self.n_hidden).zero_(),\n",
        "                      weight.new(self.n_layers, batch_size, self.n_hidden).zero_())\n",
        "        \n",
        "        return hidden\n",
        "        "
      ],
      "execution_count": 0,
      "outputs": []
    },
    {
      "cell_type": "code",
      "metadata": {
        "id": "piJm50OnAHfr",
        "colab_type": "code",
        "colab": {}
      },
      "source": [
        "# train the RNN\n",
        "def train(network, x_train, y_train, n_epochs, print_every, lr=0.01, seq_len=10):\n",
        "    network.train()\n",
        "    \n",
        "    # initialize the hidden state\n",
        "    hidden = net.init_hidden(len(x_train))   \n",
        "    \n",
        "    criterion = torch.nn.MSELoss()    # mean-squared error for regression\n",
        "    optimizer = torch.optim.Adam(network.parameters(), lr=lr)\n",
        "    #optimizer = torch.optim.SGD(lstm.parameters(), lr=learning_rate)   \n",
        "\n",
        "        \n",
        "    if(train_on_gpu):\n",
        "        network.cuda()\n",
        "\n",
        "    x_train, y_train = x_train.cuda(), y_train.cuda()\n",
        "        \n",
        "    for epoch, step in enumerate(range(n_epochs)):\n",
        "        # defining the training data \n",
        "        # outputs from the rnn\n",
        "        prediction, hidden = network(x_train, hidden)\n",
        "\n",
        "        ## Representing Memory ##\n",
        "        # make a new variable for hidden and detach the hidden state from its history\n",
        "        # this way, we don't backpropagate through the entire history\n",
        "        hidden = tuple([each.data for each in hidden])\n",
        "        # calculate the loss\n",
        "        loss = criterion(prediction, y_train)\n",
        "        # zero gradients\n",
        "        optimizer.zero_grad()\n",
        "        # perform backprop and update weights\n",
        "        loss.backward()\n",
        "        optimizer.step()\n",
        "\n",
        "        if epoch % 10 == 0:\n",
        "            print(\"Epoch: %d, loss: %1.5f\" % (epoch, loss.item()))\n",
        "    \n",
        "    return"
      ],
      "execution_count": 0,
      "outputs": []
    },
    {
      "cell_type": "code",
      "metadata": {
        "id": "weGS02nYAqh8",
        "colab_type": "code",
        "outputId": "9863a791-1357-47b8-8624-4cf4839a6ebf",
        "colab": {
          "base_uri": "https://localhost:8080/",
          "height": 84
        }
      },
      "source": [
        "# define and print the net\n",
        "n_hidden=32\n",
        "n_layers=2\n",
        "\n",
        "net =  RNN(dim=1, n_hidden=n_hidden, n_layers=n_layers, drop_prob=0.3, lr=0.001)\n",
        "print(net)"
      ],
      "execution_count": 0,
      "outputs": [
        {
          "output_type": "stream",
          "text": [
            "RNN(\n",
            "  (lstm): LSTM(1, 32, num_layers=2, batch_first=True, dropout=0.3)\n",
            "  (fc): Linear(in_features=32, out_features=1, bias=True)\n",
            ")\n"
          ],
          "name": "stdout"
        }
      ]
    },
    {
      "cell_type": "code",
      "metadata": {
        "id": "5kc0A5W9As50",
        "colab_type": "code",
        "outputId": "7513e02b-48ea-4979-8d78-dba98a0723bd",
        "colab": {
          "base_uri": "https://localhost:8080/",
          "height": 118
        }
      },
      "source": [
        "batch_size = 64\n",
        "seq_length = 10\n",
        "n_epochs = 60 # start smaller if you are just testing initial behavior\n",
        "\n",
        "# train the model\n",
        "net.train()\n",
        "train(net, trainX, trainY, n_epochs=n_epochs, print_every=10)"
      ],
      "execution_count": 0,
      "outputs": [
        {
          "output_type": "stream",
          "text": [
            "Epoch: 0, loss: 0.00348\n",
            "Epoch: 10, loss: 0.00325\n",
            "Epoch: 20, loss: 0.00250\n",
            "Epoch: 30, loss: 0.00250\n",
            "Epoch: 40, loss: 0.00231\n",
            "Epoch: 50, loss: 0.00227\n"
          ],
          "name": "stdout"
        }
      ]
    },
    {
      "cell_type": "code",
      "metadata": {
        "id": "ykahBDbMcFcD",
        "colab_type": "code",
        "colab": {}
      },
      "source": [
        "# train the RNN\n",
        "def eval(network, x_test, y_test):\n",
        "    network.eval()\n",
        "    # initialize the hidden state\n",
        "    hidden = None \n",
        "    \n",
        "    criterion = torch.nn.MSELoss()\n",
        "\n",
        "    if(train_on_gpu):\n",
        "        network.cuda()\n",
        "\n",
        "    x_test, y_test = x_test.cuda(), y_test.cuda()\n",
        "    \n",
        "    prediction, hidden = network(x_test, hidden)\n",
        "    # calculate the loss\n",
        "    loss = criterion(prediction, y_test)\n",
        "\n",
        "    print(\"val loss: %1.5f\" % (loss.item()))\n",
        "    return"
      ],
      "execution_count": 0,
      "outputs": []
    },
    {
      "cell_type": "code",
      "metadata": {
        "id": "6oRTxIwgcrP0",
        "colab_type": "code",
        "outputId": "8f1da0ef-dc9b-40d4-9c1b-f5e535aa8fde",
        "colab": {
          "base_uri": "https://localhost:8080/",
          "height": 34
        }
      },
      "source": [
        "eval(net, testX, testY)"
      ],
      "execution_count": 0,
      "outputs": [
        {
          "output_type": "stream",
          "text": [
            "val loss: 0.00969\n"
          ],
          "name": "stdout"
        }
      ]
    },
    {
      "cell_type": "code",
      "metadata": {
        "id": "TP2gMxf6A1ns",
        "colab_type": "code",
        "outputId": "9eb751eb-c9aa-4306-d24c-18845e108caa",
        "colab": {
          "base_uri": "https://localhost:8080/",
          "height": 294
        }
      },
      "source": [
        "seq_len=10\n",
        "net.eval()\n",
        "\n",
        "hidden = None \n",
        "dataX = dataX.cuda()\n",
        "\n",
        "train_predict, _= net(dataX, hidden)\n",
        "\n",
        "if(train_on_gpu):\n",
        "    train_predict = train_predict.cpu()\n",
        "data_predict = train_predict.data.numpy()\n",
        "dataY_plot = dataY.data.numpy()\n",
        "dataY_plot = dataY_plot.reshape(-1,1)\n",
        "\n",
        "data_predict = sc.inverse_transform(data_predict)\n",
        "dataY_plot = sc.inverse_transform(dataY_plot)\n",
        "\n",
        "plt.axvline(x=train_size, c='r', linestyle='--')\n",
        "\n",
        "plt.plot(dataY_plot, label=\"real_data\")\n",
        "plt.plot(data_predict, label=\"prediction\")\n",
        "plt.suptitle('Time-Series Prediction')\n",
        "plt.legend()\n",
        "plt.savefig(\"/content/drive/My Drive/DeepLearning/Sunspots/prediction.png\")\n",
        "plt.show()"
      ],
      "execution_count": 0,
      "outputs": [
        {
          "output_type": "display_data",
          "data": {
            "image/png": "[encoded data removed]",
            "text/plain": [
              "<Figure size 432x288 with 1 Axes>"
            ]
          },
          "metadata": {
            "tags": [],
            "needs_background": "light"
          }
        }
      ]
    },
    {
      "cell_type": "code",
      "metadata": {
        "id": "n9Fcdaf5BcCS",
        "colab_type": "code",
        "colab": {}
      },
      "source": [
        ""
      ],
      "execution_count": 0,
      "outputs": []
    }
  ]
}